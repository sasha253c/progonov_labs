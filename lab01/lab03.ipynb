{
 "cells": [
  {
   "cell_type": "code",
   "execution_count": 26,
   "metadata": {},
   "outputs": [
    {
     "name": "stderr",
     "output_type": "stream",
     "text": [
      "/home/sasha253c/myprog/kpi/progonov/progonov_labs/.venv/lib/python3.5/site-packages/IPython/nbformat.py:13: ShimWarning:\n",
      "\n",
      "The `IPython.nbformat` package has been deprecated since IPython 4.0. You should import from nbformat instead.\n",
      "\n"
     ]
    }
   ],
   "source": [
    "import os\n",
    "\n",
    "import numpy as np\n",
    "import scipy as sp\n",
    "from scipy import misc, stats\n",
    "import pandas as pd\n",
    "from PIL import Image\n",
    "import matplotlib.pyplot as plt\n",
    "import plotly.plotly as py\n",
    "import seaborn as sns\n",
    "from pandas import DataFrame, Series\n",
    "from pymatbridge import Matlab\n",
    "\n",
    "%matplotlib inline"
   ]
  },
  {
   "cell_type": "code",
   "execution_count": 12,
   "metadata": {},
   "outputs": [],
   "source": [
    "MAIN_TAG = '2007'\n",
    "DIRNAME_TAGS = '/home/sasha253c/myprog/kpi/progonov/progonov_labs/data/tags'\n",
    "DIRNAME_IMAGES = '/home/sasha253c/myprog/kpi/progonov/progonov_labs/data/images'\n",
    "N = 1000\n",
    "COLOR = {'red': 0,\n",
    "         'green': 1,\n",
    "         'blue': 2}"
   ]
  },
  {
   "cell_type": "code",
   "execution_count": 6,
   "metadata": {},
   "outputs": [],
   "source": [
    "data = DataFrame()"
   ]
  },
  {
   "cell_type": "code",
   "execution_count": 7,
   "metadata": {},
   "outputs": [],
   "source": [
    "with open('../data/Dataset_tune.txt') as f:\n",
    "    image_names = [int(name) for name in f.readlines()]"
   ]
  },
  {
   "cell_type": "code",
   "execution_count": 8,
   "metadata": {},
   "outputs": [
    {
     "data": {
      "text/plain": [
       "5000"
      ]
     },
     "execution_count": 8,
     "metadata": {},
     "output_type": "execute_result"
    }
   ],
   "source": [
    "len(image_names)"
   ]
  },
  {
   "cell_type": "code",
   "execution_count": 9,
   "metadata": {},
   "outputs": [
    {
     "name": "stderr",
     "output_type": "stream",
     "text": [
      "/home/sasha253c/myprog/kpi/progonov/progonov_labs/.venv/lib/python3.5/site-packages/ipykernel_launcher.py:6: FutureWarning: set_value is deprecated and will be removed in a future release. Please use .at[] or .iat[] accessors instead\n",
      "  \n"
     ]
    }
   ],
   "source": [
    "s = Series()\n",
    "for name in image_names[:N]:\n",
    "    with open(os.path.join(DIRNAME_TAGS, 'tags%d.txt' % (name,))) as file:\n",
    "        set_tags = set(tag.strip() for tag in file.readlines())\n",
    "        #print('tags%d.txt' % (name,), '  ',set_tags)\n",
    "        s.set_value(name, int(MAIN_TAG not in set_tags))\n",
    "    \n",
    "data = DataFrame(s)"
   ]
  },
  {
   "cell_type": "code",
   "execution_count": 10,
   "metadata": {},
   "outputs": [
    {
     "data": {
      "text/plain": [
       "16018    1\n",
       "2832     1\n",
       "10328    1\n",
       "16071    1\n",
       "22284    0\n",
       "dtype: int64"
      ]
     },
     "execution_count": 10,
     "metadata": {},
     "output_type": "execute_result"
    }
   ],
   "source": [
    "s.head()"
   ]
  },
  {
   "cell_type": "code",
   "execution_count": 11,
   "metadata": {},
   "outputs": [
    {
     "data": {
      "text/html": [
       "<div>\n",
       "<style scoped>\n",
       "    .dataframe tbody tr th:only-of-type {\n",
       "        vertical-align: middle;\n",
       "    }\n",
       "\n",
       "    .dataframe tbody tr th {\n",
       "        vertical-align: top;\n",
       "    }\n",
       "\n",
       "    .dataframe thead th {\n",
       "        text-align: right;\n",
       "    }\n",
       "</style>\n",
       "<table border=\"1\" class=\"dataframe\">\n",
       "  <thead>\n",
       "    <tr style=\"text-align: right;\">\n",
       "      <th></th>\n",
       "      <th>0</th>\n",
       "    </tr>\n",
       "  </thead>\n",
       "  <tbody>\n",
       "    <tr>\n",
       "      <th>16018</th>\n",
       "      <td>1</td>\n",
       "    </tr>\n",
       "    <tr>\n",
       "      <th>2832</th>\n",
       "      <td>1</td>\n",
       "    </tr>\n",
       "    <tr>\n",
       "      <th>10328</th>\n",
       "      <td>1</td>\n",
       "    </tr>\n",
       "    <tr>\n",
       "      <th>16071</th>\n",
       "      <td>1</td>\n",
       "    </tr>\n",
       "    <tr>\n",
       "      <th>22284</th>\n",
       "      <td>0</td>\n",
       "    </tr>\n",
       "  </tbody>\n",
       "</table>\n",
       "</div>"
      ],
      "text/plain": [
       "       0\n",
       "16018  1\n",
       "2832   1\n",
       "10328  1\n",
       "16071  1\n",
       "22284  0"
      ]
     },
     "execution_count": 11,
     "metadata": {},
     "output_type": "execute_result"
    }
   ],
   "source": [
    "data.head()"
   ]
  },
  {
   "cell_type": "code",
   "execution_count": null,
   "metadata": {},
   "outputs": [],
   "source": []
  },
  {
   "cell_type": "code",
   "execution_count": 21,
   "metadata": {},
   "outputs": [],
   "source": [
    "data = DataFrame()\n",
    "num = 0\n",
    "for image_name in image_names[:1000]:\n",
    "    image = np.array(Image.open(os.path.join(DIRNAME_IMAGES, 'im%d.jpg' % (image_name))))\n",
    "    a = image[:, :, num].ravel()\n",
    "    d = {'name': image_name,\n",
    "         'min': np.min(a),\n",
    "             'max': np.max(a),\n",
    "             'mean': np.mean(a),\n",
    "             'var': np.var(a),\n",
    "             'median': np.median(a),\n",
    "             'interquartile': sp.stats.iqr(a),\n",
    "             'skewness': sp.stats.skew(a),\n",
    "             'kurtosis': sp.stats.kurtosis(a),\n",
    "        'target': s[image_name]}\n",
    "    data = pd.concat([data, DataFrame(d, index=[0,])], ignore_index=True)"
   ]
  },
  {
   "cell_type": "code",
   "execution_count": 22,
   "metadata": {},
   "outputs": [
    {
     "data": {
      "text/plain": [
       "0"
      ]
     },
     "execution_count": 22,
     "metadata": {},
     "output_type": "execute_result"
    }
   ],
   "source": [
    "s[22284]"
   ]
  },
  {
   "cell_type": "code",
   "execution_count": 23,
   "metadata": {},
   "outputs": [
    {
     "data": {
      "text/plain": [
       "array([[[255, 255, 255],\n",
       "        [255, 255, 255],\n",
       "        [255, 255, 255],\n",
       "        ..., \n",
       "        [255, 255, 255],\n",
       "        [255, 255, 255],\n",
       "        [255, 255, 255]],\n",
       "\n",
       "       [[255, 255, 255],\n",
       "        [255, 255, 255],\n",
       "        [255, 255, 255],\n",
       "        ..., \n",
       "        [255, 255, 255],\n",
       "        [255, 255, 255],\n",
       "        [255, 255, 255]],\n",
       "\n",
       "       [[255, 255, 255],\n",
       "        [255, 255, 255],\n",
       "        [255, 255, 255],\n",
       "        ..., \n",
       "        [255, 255, 255],\n",
       "        [255, 255, 255],\n",
       "        [255, 255, 255]],\n",
       "\n",
       "       ..., \n",
       "       [[255, 255, 255],\n",
       "        [254, 254, 254],\n",
       "        [254, 254, 254],\n",
       "        ..., \n",
       "        [252, 250, 251],\n",
       "        [251, 249, 250],\n",
       "        [247, 245, 246]],\n",
       "\n",
       "       [[255, 255, 255],\n",
       "        [255, 255, 255],\n",
       "        [255, 255, 255],\n",
       "        ..., \n",
       "        [252, 250, 251],\n",
       "        [248, 246, 247],\n",
       "        [244, 240, 241]],\n",
       "\n",
       "       [[255, 255, 255],\n",
       "        [255, 255, 255],\n",
       "        [255, 255, 255],\n",
       "        ..., \n",
       "        [254, 250, 251],\n",
       "        [251, 247, 248],\n",
       "        [248, 244, 245]]], dtype=uint8)"
      ]
     },
     "execution_count": 23,
     "metadata": {},
     "output_type": "execute_result"
    }
   ],
   "source": [
    "image"
   ]
  },
  {
   "cell_type": "code",
   "execution_count": 25,
   "metadata": {},
   "outputs": [
    {
     "data": {
      "text/html": [
       "<div>\n",
       "<style scoped>\n",
       "    .dataframe tbody tr th:only-of-type {\n",
       "        vertical-align: middle;\n",
       "    }\n",
       "\n",
       "    .dataframe tbody tr th {\n",
       "        vertical-align: top;\n",
       "    }\n",
       "\n",
       "    .dataframe thead th {\n",
       "        text-align: right;\n",
       "    }\n",
       "</style>\n",
       "<table border=\"1\" class=\"dataframe\">\n",
       "  <thead>\n",
       "    <tr style=\"text-align: right;\">\n",
       "      <th></th>\n",
       "      <th>interquartile</th>\n",
       "      <th>kurtosis</th>\n",
       "      <th>max</th>\n",
       "      <th>mean</th>\n",
       "      <th>median</th>\n",
       "      <th>min</th>\n",
       "      <th>name</th>\n",
       "      <th>skewness</th>\n",
       "      <th>target</th>\n",
       "      <th>var</th>\n",
       "    </tr>\n",
       "  </thead>\n",
       "  <tbody>\n",
       "    <tr>\n",
       "      <th>0</th>\n",
       "      <td>41.0</td>\n",
       "      <td>0.399050</td>\n",
       "      <td>255</td>\n",
       "      <td>41.468431</td>\n",
       "      <td>36.0</td>\n",
       "      <td>0</td>\n",
       "      <td>16018</td>\n",
       "      <td>0.789478</td>\n",
       "      <td>1</td>\n",
       "      <td>897.363995</td>\n",
       "    </tr>\n",
       "    <tr>\n",
       "      <th>1</th>\n",
       "      <td>146.0</td>\n",
       "      <td>-1.224572</td>\n",
       "      <td>255</td>\n",
       "      <td>153.781394</td>\n",
       "      <td>156.0</td>\n",
       "      <td>0</td>\n",
       "      <td>2832</td>\n",
       "      <td>-0.219189</td>\n",
       "      <td>1</td>\n",
       "      <td>6214.021990</td>\n",
       "    </tr>\n",
       "    <tr>\n",
       "      <th>2</th>\n",
       "      <td>104.0</td>\n",
       "      <td>-0.735921</td>\n",
       "      <td>234</td>\n",
       "      <td>121.656235</td>\n",
       "      <td>149.0</td>\n",
       "      <td>0</td>\n",
       "      <td>10328</td>\n",
       "      <td>-0.930703</td>\n",
       "      <td>1</td>\n",
       "      <td>4209.820332</td>\n",
       "    </tr>\n",
       "    <tr>\n",
       "      <th>3</th>\n",
       "      <td>113.0</td>\n",
       "      <td>-0.882227</td>\n",
       "      <td>255</td>\n",
       "      <td>155.734336</td>\n",
       "      <td>172.0</td>\n",
       "      <td>0</td>\n",
       "      <td>16071</td>\n",
       "      <td>-0.484947</td>\n",
       "      <td>1</td>\n",
       "      <td>5471.229412</td>\n",
       "    </tr>\n",
       "    <tr>\n",
       "      <th>4</th>\n",
       "      <td>146.0</td>\n",
       "      <td>-1.263383</td>\n",
       "      <td>255</td>\n",
       "      <td>132.356751</td>\n",
       "      <td>156.0</td>\n",
       "      <td>0</td>\n",
       "      <td>22284</td>\n",
       "      <td>-0.408834</td>\n",
       "      <td>0</td>\n",
       "      <td>6317.783450</td>\n",
       "    </tr>\n",
       "  </tbody>\n",
       "</table>\n",
       "</div>"
      ],
      "text/plain": [
       "   interquartile  kurtosis  max        mean  median  min   name  skewness  \\\n",
       "0           41.0  0.399050  255   41.468431    36.0    0  16018  0.789478   \n",
       "1          146.0 -1.224572  255  153.781394   156.0    0   2832 -0.219189   \n",
       "2          104.0 -0.735921  234  121.656235   149.0    0  10328 -0.930703   \n",
       "3          113.0 -0.882227  255  155.734336   172.0    0  16071 -0.484947   \n",
       "4          146.0 -1.263383  255  132.356751   156.0    0  22284 -0.408834   \n",
       "\n",
       "   target          var  \n",
       "0       1   897.363995  \n",
       "1       1  6214.021990  \n",
       "2       1  4209.820332  \n",
       "3       1  5471.229412  \n",
       "4       0  6317.783450  "
      ]
     },
     "execution_count": 25,
     "metadata": {},
     "output_type": "execute_result"
    }
   ],
   "source": [
    "data.head()"
   ]
  },
  {
   "cell_type": "code",
   "execution_count": 27,
   "metadata": {},
   "outputs": [],
   "source": [
    "mlab = Matlab()"
   ]
  },
  {
   "cell_type": "code",
   "execution_count": null,
   "metadata": {},
   "outputs": [],
   "source": [
    "res = mlab.run_func('path/to/jk.m', {'arg1': 3, 'arg2': 5})"
   ]
  }
 ],
 "metadata": {
  "kernelspec": {
   "display_name": "Python 3",
   "language": "python",
   "name": "python3"
  },
  "language_info": {
   "codemirror_mode": {
    "name": "ipython",
    "version": 3
   },
   "file_extension": ".py",
   "mimetype": "text/x-python",
   "name": "python",
   "nbconvert_exporter": "python",
   "pygments_lexer": "ipython3",
   "version": "3.5.2"
  }
 },
 "nbformat": 4,
 "nbformat_minor": 1
}
