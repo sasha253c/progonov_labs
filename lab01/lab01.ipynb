{
 "cells": [
  {
   "cell_type": "code",
   "execution_count": 1,
   "metadata": {},
   "outputs": [],
   "source": [
    "import os\n",
    "from collections import defaultdict\n",
    "\n",
    "import numpy as np\n",
    "import scipy as sp\n",
    "from scipy import misc, stats\n",
    "import pandas as pd\n",
    "from PIL import Image\n",
    "import matplotlib.pyplot as plt\n",
    "import plotly.plotly as py\n",
    "import seaborn as sns\n",
    "from fitter import Fitter\n",
    "\n",
    "%matplotlib inline"
   ]
  },
  {
   "cell_type": "code",
   "execution_count": 2,
   "metadata": {},
   "outputs": [],
   "source": [
    "DIRNAME = '../data/images/'\n",
    "COLOR = {'red': 0,\n",
    "         'green': 1,\n",
    "         'blue': 2}  # RGB"
   ]
  },
  {
   "cell_type": "code",
   "execution_count": 3,
   "metadata": {},
   "outputs": [],
   "source": [
    "with open('../data/Dataset_tune.txt') as f:\n",
    "    image_names = ['im'+ x.strip()+'.jpg' for x in f.readlines()]"
   ]
  },
  {
   "cell_type": "markdown",
   "metadata": {},
   "source": [
    "## 2. Для каждого канала цвета каждого изображения из тестового пакета вычислить следующие характеристики:"
   ]
  },
  {
   "cell_type": "code",
   "execution_count": 4,
   "metadata": {},
   "outputs": [
    {
     "data": {
      "text/plain": [
       "['im16018.jpg', 'im2832.jpg', 'im10328.jpg', 'im16071.jpg', 'im22284.jpg']"
      ]
     },
     "execution_count": 4,
     "metadata": {},
     "output_type": "execute_result"
    }
   ],
   "source": [
    "image_names[:5]"
   ]
  },
  {
   "cell_type": "code",
   "execution_count": 5,
   "metadata": {},
   "outputs": [
    {
     "data": {
      "text/plain": [
       "5000"
      ]
     },
     "execution_count": 5,
     "metadata": {},
     "output_type": "execute_result"
    }
   ],
   "source": [
    "len(image_names)"
   ]
  },
  {
   "cell_type": "code",
   "execution_count": 33,
   "metadata": {},
   "outputs": [],
   "source": [
    "data = {}\n",
    "for name, num in COLOR.items():\n",
    "    data[name] = pd.DataFrame()\n",
    "    for image_name in image_names[:1000]:\n",
    "        image = np.array(Image.open(DIRNAME+image_name))\n",
    "        a = image[:, :, num].ravel()\n",
    "        d = {'name': image_name,\n",
    "             'min': np.min(a),\n",
    "             'max': np.max(a),\n",
    "             'mean': np.mean(a),\n",
    "             'var': np.var(a),\n",
    "             'median': np.median(a),\n",
    "             'interquartile': sp.stats.iqr(a),\n",
    "             'skewness': sp.stats.skew(a),\n",
    "             'kurtosis': sp.stats.kurtosis(a)}\n",
    "        data[name] = pd.concat([data[name], pd.DataFrame(pd.DataFrame(d, index=[0,]))], ignore_index=True)"
   ]
  },
  {
   "cell_type": "code",
   "execution_count": 37,
   "metadata": {},
   "outputs": [
    {
     "data": {
      "text/html": [
       "<div>\n",
       "<style scoped>\n",
       "    .dataframe tbody tr th:only-of-type {\n",
       "        vertical-align: middle;\n",
       "    }\n",
       "\n",
       "    .dataframe tbody tr th {\n",
       "        vertical-align: top;\n",
       "    }\n",
       "\n",
       "    .dataframe thead th {\n",
       "        text-align: right;\n",
       "    }\n",
       "</style>\n",
       "<table border=\"1\" class=\"dataframe\">\n",
       "  <thead>\n",
       "    <tr style=\"text-align: right;\">\n",
       "      <th></th>\n",
       "      <th>interquartile</th>\n",
       "      <th>kurtosis</th>\n",
       "      <th>max</th>\n",
       "      <th>mean</th>\n",
       "      <th>median</th>\n",
       "      <th>min</th>\n",
       "      <th>name</th>\n",
       "      <th>skewness</th>\n",
       "      <th>var</th>\n",
       "    </tr>\n",
       "  </thead>\n",
       "  <tbody>\n",
       "    <tr>\n",
       "      <th>0</th>\n",
       "      <td>45.0</td>\n",
       "      <td>0.421079</td>\n",
       "      <td>255</td>\n",
       "      <td>45.580790</td>\n",
       "      <td>41.0</td>\n",
       "      <td>0</td>\n",
       "      <td>im16018.jpg</td>\n",
       "      <td>0.615814</td>\n",
       "      <td>1024.438924</td>\n",
       "    </tr>\n",
       "    <tr>\n",
       "      <th>1</th>\n",
       "      <td>157.0</td>\n",
       "      <td>-1.278983</td>\n",
       "      <td>255</td>\n",
       "      <td>154.111294</td>\n",
       "      <td>157.0</td>\n",
       "      <td>0</td>\n",
       "      <td>im2832.jpg</td>\n",
       "      <td>-0.251882</td>\n",
       "      <td>6726.445485</td>\n",
       "    </tr>\n",
       "    <tr>\n",
       "      <th>2</th>\n",
       "      <td>174.0</td>\n",
       "      <td>-1.434889</td>\n",
       "      <td>255</td>\n",
       "      <td>106.175979</td>\n",
       "      <td>60.0</td>\n",
       "      <td>0</td>\n",
       "      <td>im10328.jpg</td>\n",
       "      <td>0.583531</td>\n",
       "      <td>7265.348274</td>\n",
       "    </tr>\n",
       "    <tr>\n",
       "      <th>3</th>\n",
       "      <td>64.0</td>\n",
       "      <td>-1.155102</td>\n",
       "      <td>178</td>\n",
       "      <td>68.568731</td>\n",
       "      <td>75.0</td>\n",
       "      <td>0</td>\n",
       "      <td>im16071.jpg</td>\n",
       "      <td>-0.415416</td>\n",
       "      <td>1354.069329</td>\n",
       "    </tr>\n",
       "    <tr>\n",
       "      <th>4</th>\n",
       "      <td>145.0</td>\n",
       "      <td>-1.432003</td>\n",
       "      <td>255</td>\n",
       "      <td>105.647718</td>\n",
       "      <td>110.0</td>\n",
       "      <td>0</td>\n",
       "      <td>im22284.jpg</td>\n",
       "      <td>0.021974</td>\n",
       "      <td>5578.253765</td>\n",
       "    </tr>\n",
       "  </tbody>\n",
       "</table>\n",
       "</div>"
      ],
      "text/plain": [
       "   interquartile  kurtosis  max        mean  median  min         name  \\\n",
       "0           45.0  0.421079  255   45.580790    41.0    0  im16018.jpg   \n",
       "1          157.0 -1.278983  255  154.111294   157.0    0   im2832.jpg   \n",
       "2          174.0 -1.434889  255  106.175979    60.0    0  im10328.jpg   \n",
       "3           64.0 -1.155102  178   68.568731    75.0    0  im16071.jpg   \n",
       "4          145.0 -1.432003  255  105.647718   110.0    0  im22284.jpg   \n",
       "\n",
       "   skewness          var  \n",
       "0  0.615814  1024.438924  \n",
       "1 -0.251882  6726.445485  \n",
       "2  0.583531  7265.348274  \n",
       "3 -0.415416  1354.069329  \n",
       "4  0.021974  5578.253765  "
      ]
     },
     "execution_count": 37,
     "metadata": {},
     "output_type": "execute_result"
    }
   ],
   "source": [
    "data['blue'].head()"
   ]
  },
  {
   "cell_type": "code",
   "execution_count": 38,
   "metadata": {
    "scrolled": true
   },
   "outputs": [
    {
     "data": {
      "text/html": [
       "<div>\n",
       "<style scoped>\n",
       "    .dataframe tbody tr th:only-of-type {\n",
       "        vertical-align: middle;\n",
       "    }\n",
       "\n",
       "    .dataframe tbody tr th {\n",
       "        vertical-align: top;\n",
       "    }\n",
       "\n",
       "    .dataframe thead th {\n",
       "        text-align: right;\n",
       "    }\n",
       "</style>\n",
       "<table border=\"1\" class=\"dataframe\">\n",
       "  <thead>\n",
       "    <tr style=\"text-align: right;\">\n",
       "      <th></th>\n",
       "      <th>interquartile</th>\n",
       "      <th>kurtosis</th>\n",
       "      <th>max</th>\n",
       "      <th>mean</th>\n",
       "      <th>median</th>\n",
       "      <th>min</th>\n",
       "      <th>name</th>\n",
       "      <th>skewness</th>\n",
       "      <th>var</th>\n",
       "    </tr>\n",
       "  </thead>\n",
       "  <tbody>\n",
       "    <tr>\n",
       "      <th>0</th>\n",
       "      <td>41.0</td>\n",
       "      <td>0.399050</td>\n",
       "      <td>255</td>\n",
       "      <td>41.468431</td>\n",
       "      <td>36.0</td>\n",
       "      <td>0</td>\n",
       "      <td>im16018.jpg</td>\n",
       "      <td>0.789478</td>\n",
       "      <td>897.363995</td>\n",
       "    </tr>\n",
       "    <tr>\n",
       "      <th>1</th>\n",
       "      <td>146.0</td>\n",
       "      <td>-1.224572</td>\n",
       "      <td>255</td>\n",
       "      <td>153.781394</td>\n",
       "      <td>156.0</td>\n",
       "      <td>0</td>\n",
       "      <td>im2832.jpg</td>\n",
       "      <td>-0.219189</td>\n",
       "      <td>6214.021990</td>\n",
       "    </tr>\n",
       "    <tr>\n",
       "      <th>2</th>\n",
       "      <td>104.0</td>\n",
       "      <td>-0.735921</td>\n",
       "      <td>234</td>\n",
       "      <td>121.656235</td>\n",
       "      <td>149.0</td>\n",
       "      <td>0</td>\n",
       "      <td>im10328.jpg</td>\n",
       "      <td>-0.930703</td>\n",
       "      <td>4209.820332</td>\n",
       "    </tr>\n",
       "    <tr>\n",
       "      <th>3</th>\n",
       "      <td>113.0</td>\n",
       "      <td>-0.882227</td>\n",
       "      <td>255</td>\n",
       "      <td>155.734336</td>\n",
       "      <td>172.0</td>\n",
       "      <td>0</td>\n",
       "      <td>im16071.jpg</td>\n",
       "      <td>-0.484947</td>\n",
       "      <td>5471.229412</td>\n",
       "    </tr>\n",
       "    <tr>\n",
       "      <th>4</th>\n",
       "      <td>146.0</td>\n",
       "      <td>-1.263383</td>\n",
       "      <td>255</td>\n",
       "      <td>132.356751</td>\n",
       "      <td>156.0</td>\n",
       "      <td>0</td>\n",
       "      <td>im22284.jpg</td>\n",
       "      <td>-0.408834</td>\n",
       "      <td>6317.783450</td>\n",
       "    </tr>\n",
       "  </tbody>\n",
       "</table>\n",
       "</div>"
      ],
      "text/plain": [
       "   interquartile  kurtosis  max        mean  median  min         name  \\\n",
       "0           41.0  0.399050  255   41.468431    36.0    0  im16018.jpg   \n",
       "1          146.0 -1.224572  255  153.781394   156.0    0   im2832.jpg   \n",
       "2          104.0 -0.735921  234  121.656235   149.0    0  im10328.jpg   \n",
       "3          113.0 -0.882227  255  155.734336   172.0    0  im16071.jpg   \n",
       "4          146.0 -1.263383  255  132.356751   156.0    0  im22284.jpg   \n",
       "\n",
       "   skewness          var  \n",
       "0  0.789478   897.363995  \n",
       "1 -0.219189  6214.021990  \n",
       "2 -0.930703  4209.820332  \n",
       "3 -0.484947  5471.229412  \n",
       "4 -0.408834  6317.783450  "
      ]
     },
     "execution_count": 38,
     "metadata": {},
     "output_type": "execute_result"
    }
   ],
   "source": [
    "data['red'].head()"
   ]
  },
  {
   "cell_type": "code",
   "execution_count": 90,
   "metadata": {},
   "outputs": [
    {
     "data": {
      "text/plain": [
       "<matplotlib.axes._subplots.AxesSubplot at 0x7f03b9bb1940>"
      ]
     },
     "execution_count": 90,
     "metadata": {},
     "output_type": "execute_result"
    },
    {
     "data": {
      "image/png": "[encoded data removed]",
      "text/plain": [
       "<matplotlib.figure.Figure at 0x7f03b99637f0>"
      ]
     },
     "metadata": {},
     "output_type": "display_data"
    }
   ],
   "source": [
    "sns.boxplot(data=[data['blue']['min'], data['green']['min'], data['red']['min'],], palette=\"muted\")"
   ]
  },
  {
   "cell_type": "code",
   "execution_count": 91,
   "metadata": {},
   "outputs": [
    {
     "data": {
      "text/plain": [
       "<matplotlib.axes._subplots.AxesSubplot at 0x7f03b9bb1898>"
      ]
     },
     "execution_count": 91,
     "metadata": {},
     "output_type": "execute_result"
    },
    {
     "data": {
      "image/png": "[encoded data removed]",
      "text/plain": [
       "<matplotlib.figure.Figure at 0x7f03b9bb8ac8>"
      ]
     },
     "metadata": {},
     "output_type": "display_data"
    }
   ],
   "source": [
    "sns.boxplot(data=[data['blue']['max'], data['green']['max'], data['red']['max'],], palette=\"muted\")"
   ]
  },
  {
   "cell_type": "code",
   "execution_count": 92,
   "metadata": {},
   "outputs": [
    {
     "data": {
      "text/plain": [
       "<matplotlib.axes._subplots.AxesSubplot at 0x7f03b9bb8160>"
      ]
     },
     "execution_count": 92,
     "metadata": {},
     "output_type": "execute_result"
    },
    {
     "data": {
      "image/png": "[encoded data removed]",
      "text/plain": [
       "<matplotlib.figure.Figure at 0x7f03b9b75710>"
      ]
     },
     "metadata": {},
     "output_type": "display_data"
    }
   ],
   "source": [
    "sns.boxplot(data=[data['blue']['mean'], data['green']['mean'], data['red']['mean'],], palette=\"muted\")"
   ]
  },
  {
   "cell_type": "code",
   "execution_count": 93,
   "metadata": {},
   "outputs": [
    {
     "data": {
      "text/plain": [
       "<matplotlib.axes._subplots.AxesSubplot at 0x7f03b988f978>"
      ]
     },
     "execution_count": 93,
     "metadata": {},
     "output_type": "execute_result"
    },
    {
     "data": {
      "image/png": "[encoded data removed]",
      "text/plain": [
       "<matplotlib.figure.Figure at 0x7f03b9bb8e10>"
      ]
     },
     "metadata": {},
     "output_type": "display_data"
    }
   ],
   "source": [
    "sns.boxplot(data=[data['blue']['var'], data['green']['var'], data['red']['var'],], palette=\"muted\")"
   ]
  },
  {
   "cell_type": "code",
   "execution_count": 97,
   "metadata": {},
   "outputs": [
    {
     "data": {
      "text/plain": [
       "<matplotlib.axes._subplots.AxesSubplot at 0x7f03b99ebcf8>"
      ]
     },
     "execution_count": 97,
     "metadata": {},
     "output_type": "execute_result"
    },
    {
     "data": {
      "image/png": "[encoded data removed]",
      "text/plain": [
       "<matplotlib.figure.Figure at 0x7f03b99c7eb8>"
      ]
     },
     "metadata": {},
     "output_type": "display_data"
    }
   ],
   "source": [
    "sns.boxplot(data=[data['blue']['median'], data['green']['median'], data['red']['median'],], palette=\"muted\")"
   ]
  },
  {
   "cell_type": "code",
   "execution_count": 98,
   "metadata": {},
   "outputs": [
    {
     "data": {
      "text/plain": [
       "<matplotlib.axes._subplots.AxesSubplot at 0x7f03b97e3ef0>"
      ]
     },
     "execution_count": 98,
     "metadata": {},
     "output_type": "execute_result"
    },
    {
     "data": {
      "image/png": "[encoded data removed]",
      "text/plain": [
       "<matplotlib.figure.Figure at 0x7f03b9747f28>"
      ]
     },
     "metadata": {},
     "output_type": "display_data"
    }
   ],
   "source": [
    "sns.boxplot(data=[data['blue']['interquartile'], data['green']['interquartile'], data['red']['interquartile'],], palette=\"muted\")"
   ]
  },
  {
   "cell_type": "code",
   "execution_count": 95,
   "metadata": {},
   "outputs": [
    {
     "data": {
      "text/plain": [
       "<matplotlib.axes._subplots.AxesSubplot at 0x7f03b99cd588>"
      ]
     },
     "execution_count": 95,
     "metadata": {},
     "output_type": "execute_result"
    },
    {
     "data": {
      "image/png": "[encoded data removed]",
      "text/plain": [
       "<matplotlib.figure.Figure at 0x7f03b9963dd8>"
      ]
     },
     "metadata": {},
     "output_type": "display_data"
    }
   ],
   "source": [
    "sns.boxplot(data=[data['blue']['skewness'], data['green']['skewness'], data['red']['skewness'],], palette=\"muted\")"
   ]
  },
  {
   "cell_type": "markdown",
   "metadata": {},
   "source": [
    "## аппроксимация"
   ]
  },
  {
   "cell_type": "code",
   "execution_count": 6,
   "metadata": {},
   "outputs": [],
   "source": [
    "DISTRIBUTIONS = ['beta', 'gamma', 'uniform', 'norm']\n",
    "BINS = 256"
   ]
  },
  {
   "cell_type": "code",
   "execution_count": 7,
   "metadata": {},
   "outputs": [],
   "source": [
    "hist = {'red': defaultdict(int),\n",
    "        'green': defaultdict(int),\n",
    "        'blue': defaultdict(int),}"
   ]
  },
  {
   "cell_type": "code",
   "execution_count": 8,
   "metadata": {},
   "outputs": [
    {
     "name": "stderr",
     "output_type": "stream",
     "text": [
      "/home/sasha253c/myprog/kpi/progonov/progonov_labs/.venv/lib/python3.5/site-packages/scipy/stats/_continuous_distns.py:404: RuntimeWarning:\n",
      "\n",
      "invalid value encountered in sqrt\n",
      "\n"
     ]
    },
    {
     "name": "stdout",
     "output_type": "stream",
     "text": [
      "Fitted beta distribution with error=0.005979481271560883)\n",
      "Fitted gamma distribution with error=0.006576334786495469)\n",
      "Fitted uniform distribution with error=0.011522789972002987)\n",
      "Fitted norm distribution with error=0.006584604862043096)\n",
      "Fitted beta distribution with error=0.005038263455479657)\n",
      "Fitted gamma distribution with error=0.009488507673580638)\n",
      "Fitted uniform distribution with error=0.008680849370145405)\n",
      "Fitted norm distribution with error=0.009478136402493892)\n",
      "Fitted beta distribution with error=0.01263265953923496)\n",
      "Fitted gamma distribution with error=0.003721116306516982)\n",
      "Fitted uniform distribution with error=0.004369213065059148)\n",
      "Fitted norm distribution with error=0.005378343122502285)\n",
      "Fitted beta distribution with error=0.011530067467334574)\n",
      "Fitted gamma distribution with error=0.01041257403833714)\n",
      "Fitted uniform distribution with error=0.011942990637523344)\n",
      "Fitted norm distribution with error=0.01029299432980623)\n",
      "Fitted beta distribution with error=0.001662094520572728)\n",
      "Fitted gamma distribution with error=0.0035882088135305427)\n",
      "Fitted uniform distribution with error=0.00293277097344444)\n",
      "Fitted norm distribution with error=0.0035872730484027907)\n",
      "Fitted beta distribution with error=0.00036799781753407744)\n",
      "Fitted gamma distribution with error=0.0003531593622628771)\n",
      "Fitted uniform distribution with error=0.0016823783560318537)\n",
      "Fitted norm distribution with error=0.0009214299294275343)\n",
      "Fitted beta distribution with error=0.012549025407385221)\n",
      "Fitted gamma distribution with error=0.005542517872532879)\n",
      "Fitted uniform distribution with error=0.005023011436683504)\n",
      "Fitted norm distribution with error=0.005602772752403881)\n",
      "Fitted beta distribution with error=0.004168712839983961)\n",
      "Fitted gamma distribution with error=0.004957523643504904)\n",
      "Fitted uniform distribution with error=0.00587871532060368)\n",
      "Fitted norm distribution with error=0.004716110571880586)\n",
      "Fitted beta distribution with error=0.0018050209805489698)\n",
      "Fitted gamma distribution with error=0.0020368568546303293)\n",
      "Fitted uniform distribution with error=0.003480479608760437)\n",
      "Fitted norm distribution with error=0.00367474308886013)\n",
      "Fitted beta distribution with error=0.002715542282286732)\n",
      "Fitted gamma distribution with error=0.00270815468452436)\n",
      "Fitted uniform distribution with error=0.004287355330334295)\n",
      "Fitted norm distribution with error=0.002891016823006648)\n",
      "Fitted beta distribution with error=0.002777632264917192)\n",
      "Fitted gamma distribution with error=0.003148223194232018)\n",
      "Fitted uniform distribution with error=0.009380870951047823)\n",
      "Fitted norm distribution with error=0.003625146134400763)\n",
      "Fitted beta distribution with error=0.004156154503563016)\n",
      "Fitted gamma distribution with error=0.006927130679702406)\n",
      "Fitted uniform distribution with error=0.0062651843630870405)\n",
      "Fitted norm distribution with error=0.0069220173050142135)\n",
      "Fitted beta distribution with error=0.011923085148265756)\n",
      "Fitted gamma distribution with error=0.011392454079489047)\n",
      "Fitted uniform distribution with error=0.01099004444524653)\n",
      "Fitted norm distribution with error=0.011144089038995305)\n",
      "Fitted beta distribution with error=0.004150496892251395)\n",
      "Fitted gamma distribution with error=0.00569228868878937)\n",
      "Fitted uniform distribution with error=0.005361422765200762)\n",
      "Fitted norm distribution with error=0.005625862898952717)\n",
      "Fitted beta distribution with error=0.00521824652896224)\n",
      "Fitted gamma distribution with error=0.0036399501223394787)\n",
      "Fitted uniform distribution with error=0.002822301049280696)\n",
      "Fitted norm distribution with error=0.003582696574504422)\n",
      "Fitted beta distribution with error=0.0005443264423890921)\n",
      "Fitted gamma distribution with error=0.0005366011041212575)\n",
      "Fitted uniform distribution with error=0.001883835100722747)\n",
      "Fitted norm distribution with error=0.0011124678116871945)\n",
      "Fitted beta distribution with error=0.0012422001187050846)\n",
      "Fitted gamma distribution with error=0.0014872914471821485)\n",
      "Fitted uniform distribution with error=0.0025798686159108288)\n",
      "Fitted norm distribution with error=0.001452149684967143)\n",
      "Fitted beta distribution with error=0.009037645057231427)\n",
      "Fitted gamma distribution with error=0.11123969447043813)\n",
      "Fitted uniform distribution with error=0.010411864205378022)\n",
      "Fitted norm distribution with error=0.010798502849077735)\n",
      "Fitted beta distribution with error=0.0007992174936880877)\n",
      "Fitted gamma distribution with error=0.0006761315189758629)\n",
      "Fitted uniform distribution with error=0.0012414935332247495)\n",
      "Fitted norm distribution with error=0.000672561346931874)\n",
      "Fitted beta distribution with error=0.004207125658799141)\n",
      "Fitted gamma distribution with error=0.003519793307857409)\n",
      "Fitted uniform distribution with error=0.004283593805260418)\n",
      "Fitted norm distribution with error=0.0035054427109810524)\n",
      "Fitted beta distribution with error=0.004157618679130036)\n",
      "Fitted gamma distribution with error=0.003950418223019367)\n",
      "Fitted uniform distribution with error=0.010123433465786383)\n",
      "Fitted norm distribution with error=0.004520239661033237)\n",
      "Fitted beta distribution with error=0.005684109419389808)\n",
      "Fitted gamma distribution with error=0.009075506910567193)\n",
      "Fitted uniform distribution with error=0.008274104473032546)\n",
      "Fitted norm distribution with error=0.009066805913579916)\n",
      "Fitted beta distribution with error=0.013552629165713091)\n",
      "Fitted gamma distribution with error=0.01488490327207578)\n",
      "Fitted uniform distribution with error=0.014767879834864196)\n",
      "Fitted norm distribution with error=0.01467121823959689)\n",
      "Fitted beta distribution with error=0.001545231954010483)\n",
      "Fitted gamma distribution with error=0.001668903160203255)\n",
      "Fitted uniform distribution with error=0.0021885595372833754)\n",
      "Fitted norm distribution with error=0.0015748632043664182)\n",
      "Fitted beta distribution with error=0.002886279707778345)\n",
      "Fitted gamma distribution with error=0.0040725786333911385)\n",
      "Fitted uniform distribution with error=0.0031312756470792185)\n",
      "Fitted norm distribution with error=0.004059516078814512)\n",
      "Fitted beta distribution with error=0.0005400302797270622)\n",
      "Fitted gamma distribution with error=0.0004965302544155562)\n",
      "Fitted uniform distribution with error=0.0018394211536093433)\n",
      "Fitted norm distribution with error=0.0011434412691221335)\n",
      "Fitted beta distribution with error=0.002748407705856803)\n",
      "Fitted gamma distribution with error=0.003365599204912986)\n",
      "Fitted uniform distribution with error=0.003225028053390602)\n",
      "Fitted norm distribution with error=0.0034085564516688318)\n",
      "Fitted beta distribution with error=0.011186553194236629)\n",
      "Fitted gamma distribution with error=0.007805962157656463)\n",
      "Fitted uniform distribution with error=0.007495170557839175)\n",
      "Fitted norm distribution with error=0.007528695240189643)\n",
      "Fitted beta distribution with error=0.0006279145980019128)\n",
      "Fitted gamma distribution with error=0.0006178612936645303)\n",
      "Fitted uniform distribution with error=0.0012805742968488754)\n",
      "Fitted norm distribution with error=0.0006035579559633919)\n",
      "Fitted beta distribution with error=0.0022775308341219666)\n",
      "Fitted gamma distribution with error=0.0021415259559436316)\n",
      "Fitted uniform distribution with error=0.00333585748098008)\n",
      "Fitted norm distribution with error=0.002170404108886751)\n"
     ]
    }
   ],
   "source": [
    "for name, num in COLOR.items():\n",
    "    for image_name in image_names[:10]:\n",
    "        image = np.array(Image.open(os.path.join(DIRNAME, image_name)))\n",
    "        a = image[:, :, num].ravel()\n",
    "        f = Fitter(a, distributions=DISTRIBUTIONS, bins=BINS)\n",
    "        f.fit()\n",
    "        hist[name][f.df_errors['sumsquare_error'].idxmin()] += 1"
   ]
  },
  {
   "cell_type": "code",
   "execution_count": 9,
   "metadata": {},
   "outputs": [
    {
     "data": {
      "text/plain": [
       "{'blue': defaultdict(int, {'beta': 5, 'gamma': 3, 'norm': 1, 'uniform': 1}),\n",
       " 'green': defaultdict(int, {'beta': 5, 'gamma': 3, 'norm': 1, 'uniform': 1}),\n",
       " 'red': defaultdict(int, {'beta': 5, 'gamma': 1, 'norm': 2, 'uniform': 2})}"
      ]
     },
     "execution_count": 9,
     "metadata": {},
     "output_type": "execute_result"
    }
   ],
   "source": [
    "hist"
   ]
  },
  {
   "cell_type": "code",
   "execution_count": 10,
   "metadata": {},
   "outputs": [
    {
     "data": {
      "text/html": [
       "<div>\n",
       "<style scoped>\n",
       "    .dataframe tbody tr th:only-of-type {\n",
       "        vertical-align: middle;\n",
       "    }\n",
       "\n",
       "    .dataframe tbody tr th {\n",
       "        vertical-align: top;\n",
       "    }\n",
       "\n",
       "    .dataframe thead th {\n",
       "        text-align: right;\n",
       "    }\n",
       "</style>\n",
       "<table border=\"1\" class=\"dataframe\">\n",
       "  <thead>\n",
       "    <tr style=\"text-align: right;\">\n",
       "      <th></th>\n",
       "      <th>sumsquare_error</th>\n",
       "    </tr>\n",
       "  </thead>\n",
       "  <tbody>\n",
       "    <tr>\n",
       "      <th>gamma</th>\n",
       "      <td>0.002142</td>\n",
       "    </tr>\n",
       "    <tr>\n",
       "      <th>norm</th>\n",
       "      <td>0.002170</td>\n",
       "    </tr>\n",
       "    <tr>\n",
       "      <th>beta</th>\n",
       "      <td>0.002278</td>\n",
       "    </tr>\n",
       "    <tr>\n",
       "      <th>uniform</th>\n",
       "      <td>0.003336</td>\n",
       "    </tr>\n",
       "  </tbody>\n",
       "</table>\n",
       "</div>"
      ],
      "text/plain": [
       "         sumsquare_error\n",
       "gamma           0.002142\n",
       "norm            0.002170\n",
       "beta            0.002278\n",
       "uniform         0.003336"
      ]
     },
     "execution_count": 10,
     "metadata": {},
     "output_type": "execute_result"
    },
    {
     "data": {
      "image/png": "[encoded data removed]",
      "text/plain": [
       "<matplotlib.figure.Figure at 0x7fe88ae274e0>"
      ]
     },
     "metadata": {},
     "output_type": "display_data"
    }
   ],
   "source": [
    "f.summary()"
   ]
  },
  {
   "cell_type": "code",
   "execution_count": 69,
   "metadata": {},
   "outputs": [
    {
     "data": {
      "text/plain": [
       "beta       0.004207\n",
       "gamma      0.003520\n",
       "norm       0.003505\n",
       "uniform    0.004284\n",
       "Name: sumsquare_error, dtype: float64"
      ]
     },
     "execution_count": 69,
     "metadata": {},
     "output_type": "execute_result"
    }
   ],
   "source": [
    "f.df_errors['sumsquare_error']"
   ]
  },
  {
   "cell_type": "code",
   "execution_count": 63,
   "metadata": {},
   "outputs": [
    {
     "data": {
      "text/plain": [
       "beta       0.004207\n",
       "gamma      0.003520\n",
       "laplace    0.002577\n",
       "norm       0.003505\n",
       "pareto     0.005550\n",
       "uniform    0.004284\n",
       "Name: sumsquare_error, dtype: float64"
      ]
     },
     "execution_count": 63,
     "metadata": {},
     "output_type": "execute_result"
    }
   ],
   "source": [
    "f.df_errors['sumsquare_error']"
   ]
  },
  {
   "cell_type": "code",
   "execution_count": null,
   "metadata": {},
   "outputs": [],
   "source": []
  }
 ],
 "metadata": {
  "kernelspec": {
   "display_name": "Python 3",
   "language": "python",
   "name": "python3"
  },
  "language_info": {
   "codemirror_mode": {
    "name": "ipython",
    "version": 3
   },
   "file_extension": ".py",
   "mimetype": "text/x-python",
   "name": "python",
   "nbconvert_exporter": "python",
   "pygments_lexer": "ipython3",
   "version": "3.5.2"
  }
 },
 "nbformat": 4,
 "nbformat_minor": 1
}
