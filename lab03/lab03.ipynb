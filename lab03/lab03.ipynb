{
 "cells": [
  {
   "cell_type": "code",
   "execution_count": 1,
   "metadata": {},
   "outputs": [],
   "source": [
    "import os\n",
    "\n",
    "import numpy as np\n",
    "import scipy as sp\n",
    "from scipy import misc, stats\n",
    "import pandas as pd\n",
    "from PIL import Image\n",
    "import matplotlib.pyplot as plt\n",
    "import plotly.plotly as py\n",
    "import seaborn as sns\n",
    "from pandas import DataFrame, Series\n",
    "\n",
    "\n",
    "%matplotlib inline"
   ]
  },
  {
   "cell_type": "code",
   "execution_count": 2,
   "metadata": {},
   "outputs": [],
   "source": [
    "MAIN_TAG = '2007'\n",
    "DIRNAME_TAGS = '../data/tags'\n",
    "DIRNAME_IMAGES = '../data/images'\n",
    "\n",
    "COLOR = {'red': 0,\n",
    "         'green': 1,\n",
    "         'blue': 2}"
   ]
  },
  {
   "cell_type": "code",
   "execution_count": 3,
   "metadata": {},
   "outputs": [],
   "source": [
    "with open('../data/Dataset_test_sasha.txt') as f:\n",
    "    image_names = [int(name) for name in f.readlines()]"
   ]
  },
  {
   "cell_type": "code",
   "execution_count": 4,
   "metadata": {},
   "outputs": [
    {
     "data": {
      "text/plain": [
       "1001"
      ]
     },
     "execution_count": 4,
     "metadata": {},
     "output_type": "execute_result"
    }
   ],
   "source": [
    "len(image_names)"
   ]
  },
  {
   "cell_type": "code",
   "execution_count": 5,
   "metadata": {},
   "outputs": [
    {
     "name": "stderr",
     "output_type": "stream",
     "text": [
      "/home/sasha253c/myprog/kpi/progonov/progonov_labs/.venv/lib/python3.5/site-packages/ipykernel_launcher.py:6: FutureWarning:\n",
      "\n",
      "set_value is deprecated and will be removed in a future release. Please use .at[] or .iat[] accessors instead\n",
      "\n"
     ]
    }
   ],
   "source": [
    "Y = Series()\n",
    "for name in image_names:\n",
    "    with open(os.path.join(DIRNAME_TAGS, 'tags%d.txt' % (name,))) as file:\n",
    "        set_tags = set(tag.strip() for tag in file.readlines())\n",
    "        #print('tags%d.txt' % (name,), '  ',set_tags)\n",
    "        Y.set_value(name, int(MAIN_TAG in set_tags))\n",
    "Y = pd.DataFrame(Y, columns=['target'])"
   ]
  },
  {
   "cell_type": "code",
   "execution_count": 6,
   "metadata": {},
   "outputs": [
    {
     "data": {
      "text/plain": [
       "0    949\n",
       "1     32\n",
       "Name: target, dtype: int64"
      ]
     },
     "execution_count": 6,
     "metadata": {},
     "output_type": "execute_result"
    }
   ],
   "source": [
    "Y['target'].value_counts()"
   ]
  },
  {
   "cell_type": "code",
   "execution_count": 7,
   "metadata": {},
   "outputs": [
    {
     "data": {
      "text/html": [
       "<div>\n",
       "<style scoped>\n",
       "    .dataframe tbody tr th:only-of-type {\n",
       "        vertical-align: middle;\n",
       "    }\n",
       "\n",
       "    .dataframe tbody tr th {\n",
       "        vertical-align: top;\n",
       "    }\n",
       "\n",
       "    .dataframe thead th {\n",
       "        text-align: right;\n",
       "    }\n",
       "</style>\n",
       "<table border=\"1\" class=\"dataframe\">\n",
       "  <thead>\n",
       "    <tr style=\"text-align: right;\">\n",
       "      <th></th>\n",
       "      <th>target</th>\n",
       "    </tr>\n",
       "  </thead>\n",
       "  <tbody>\n",
       "    <tr>\n",
       "      <th>16018</th>\n",
       "      <td>0</td>\n",
       "    </tr>\n",
       "    <tr>\n",
       "      <th>2832</th>\n",
       "      <td>0</td>\n",
       "    </tr>\n",
       "    <tr>\n",
       "      <th>10328</th>\n",
       "      <td>0</td>\n",
       "    </tr>\n",
       "    <tr>\n",
       "      <th>16071</th>\n",
       "      <td>0</td>\n",
       "    </tr>\n",
       "    <tr>\n",
       "      <th>22284</th>\n",
       "      <td>1</td>\n",
       "    </tr>\n",
       "  </tbody>\n",
       "</table>\n",
       "</div>"
      ],
      "text/plain": [
       "       target\n",
       "16018       0\n",
       "2832        0\n",
       "10328       0\n",
       "16071       0\n",
       "22284       1"
      ]
     },
     "execution_count": 7,
     "metadata": {},
     "output_type": "execute_result"
    }
   ],
   "source": [
    "Y.head()"
   ]
  },
  {
   "cell_type": "markdown",
   "metadata": {},
   "source": [
    "## Static data"
   ]
  },
  {
   "cell_type": "code",
   "execution_count": 8,
   "metadata": {},
   "outputs": [],
   "source": [
    "data_static = DataFrame()\n",
    "num = 0\n",
    "d = []\n",
    "for image_name in image_names:\n",
    "    image = np.array(Image.open(os.path.join(DIRNAME_IMAGES, 'im%d.jpg' % (image_name))))\n",
    "    data = []\n",
    "    for name, num in COLOR.items():\n",
    "        a = image[:, :, num].ravel()\n",
    "        data.extend([np.mean(a), np.var(a), sp.stats.skew(a), sp.stats.kurtosis(a)])\n",
    "    d.append([image_name, *data])\n",
    "    \n",
    "\n",
    "data_static = pd.DataFrame.from_records(d)\n",
    "data_static = data_static.rename(columns={0: 'name'}).set_index('name')"
   ]
  },
  {
   "cell_type": "code",
   "execution_count": 9,
   "metadata": {},
   "outputs": [
    {
     "data": {
      "text/html": [
       "<div>\n",
       "<style scoped>\n",
       "    .dataframe tbody tr th:only-of-type {\n",
       "        vertical-align: middle;\n",
       "    }\n",
       "\n",
       "    .dataframe tbody tr th {\n",
       "        vertical-align: top;\n",
       "    }\n",
       "\n",
       "    .dataframe thead th {\n",
       "        text-align: right;\n",
       "    }\n",
       "</style>\n",
       "<table border=\"1\" class=\"dataframe\">\n",
       "  <thead>\n",
       "    <tr style=\"text-align: right;\">\n",
       "      <th></th>\n",
       "      <th>1</th>\n",
       "      <th>2</th>\n",
       "      <th>3</th>\n",
       "      <th>4</th>\n",
       "      <th>5</th>\n",
       "      <th>6</th>\n",
       "      <th>7</th>\n",
       "      <th>8</th>\n",
       "      <th>9</th>\n",
       "      <th>10</th>\n",
       "      <th>11</th>\n",
       "      <th>12</th>\n",
       "    </tr>\n",
       "    <tr>\n",
       "      <th>name</th>\n",
       "      <th></th>\n",
       "      <th></th>\n",
       "      <th></th>\n",
       "      <th></th>\n",
       "      <th></th>\n",
       "      <th></th>\n",
       "      <th></th>\n",
       "      <th></th>\n",
       "      <th></th>\n",
       "      <th></th>\n",
       "      <th></th>\n",
       "      <th></th>\n",
       "    </tr>\n",
       "  </thead>\n",
       "  <tbody>\n",
       "    <tr>\n",
       "      <th>16018</th>\n",
       "      <td>40.377216</td>\n",
       "      <td>883.291025</td>\n",
       "      <td>0.689875</td>\n",
       "      <td>0.047451</td>\n",
       "      <td>45.580790</td>\n",
       "      <td>1024.438924</td>\n",
       "      <td>0.615814</td>\n",
       "      <td>0.421079</td>\n",
       "      <td>41.468431</td>\n",
       "      <td>897.363995</td>\n",
       "      <td>0.789478</td>\n",
       "      <td>0.399050</td>\n",
       "    </tr>\n",
       "    <tr>\n",
       "      <th>2832</th>\n",
       "      <td>150.513370</td>\n",
       "      <td>6697.562253</td>\n",
       "      <td>-0.194264</td>\n",
       "      <td>-1.268727</td>\n",
       "      <td>154.111294</td>\n",
       "      <td>6726.445485</td>\n",
       "      <td>-0.251882</td>\n",
       "      <td>-1.278983</td>\n",
       "      <td>153.781394</td>\n",
       "      <td>6214.021990</td>\n",
       "      <td>-0.219189</td>\n",
       "      <td>-1.224572</td>\n",
       "    </tr>\n",
       "    <tr>\n",
       "      <th>10328</th>\n",
       "      <td>126.393717</td>\n",
       "      <td>2457.869925</td>\n",
       "      <td>-0.830455</td>\n",
       "      <td>-0.891233</td>\n",
       "      <td>106.175979</td>\n",
       "      <td>7265.348274</td>\n",
       "      <td>0.583531</td>\n",
       "      <td>-1.434889</td>\n",
       "      <td>121.656235</td>\n",
       "      <td>4209.820332</td>\n",
       "      <td>-0.930703</td>\n",
       "      <td>-0.735921</td>\n",
       "    </tr>\n",
       "    <tr>\n",
       "      <th>16071</th>\n",
       "      <td>117.549232</td>\n",
       "      <td>3487.788291</td>\n",
       "      <td>-0.408510</td>\n",
       "      <td>-0.722427</td>\n",
       "      <td>68.568731</td>\n",
       "      <td>1354.069329</td>\n",
       "      <td>-0.415416</td>\n",
       "      <td>-1.155102</td>\n",
       "      <td>155.734336</td>\n",
       "      <td>5471.229412</td>\n",
       "      <td>-0.484947</td>\n",
       "      <td>-0.882227</td>\n",
       "    </tr>\n",
       "    <tr>\n",
       "      <th>22284</th>\n",
       "      <td>120.996042</td>\n",
       "      <td>6615.277876</td>\n",
       "      <td>-0.160313</td>\n",
       "      <td>-1.455343</td>\n",
       "      <td>105.647718</td>\n",
       "      <td>5578.253765</td>\n",
       "      <td>0.021974</td>\n",
       "      <td>-1.432003</td>\n",
       "      <td>132.356751</td>\n",
       "      <td>6317.783450</td>\n",
       "      <td>-0.408834</td>\n",
       "      <td>-1.263383</td>\n",
       "    </tr>\n",
       "  </tbody>\n",
       "</table>\n",
       "</div>"
      ],
      "text/plain": [
       "               1            2         3         4           5            6   \\\n",
       "name                                                                          \n",
       "16018   40.377216   883.291025  0.689875  0.047451   45.580790  1024.438924   \n",
       "2832   150.513370  6697.562253 -0.194264 -1.268727  154.111294  6726.445485   \n",
       "10328  126.393717  2457.869925 -0.830455 -0.891233  106.175979  7265.348274   \n",
       "16071  117.549232  3487.788291 -0.408510 -0.722427   68.568731  1354.069329   \n",
       "22284  120.996042  6615.277876 -0.160313 -1.455343  105.647718  5578.253765   \n",
       "\n",
       "             7         8           9            10        11        12  \n",
       "name                                                                    \n",
       "16018  0.615814  0.421079   41.468431   897.363995  0.789478  0.399050  \n",
       "2832  -0.251882 -1.278983  153.781394  6214.021990 -0.219189 -1.224572  \n",
       "10328  0.583531 -1.434889  121.656235  4209.820332 -0.930703 -0.735921  \n",
       "16071 -0.415416 -1.155102  155.734336  5471.229412 -0.484947 -0.882227  \n",
       "22284  0.021974 -1.432003  132.356751  6317.783450 -0.408834 -1.263383  "
      ]
     },
     "execution_count": 9,
     "metadata": {},
     "output_type": "execute_result"
    }
   ],
   "source": [
    "data_static.head()"
   ]
  },
  {
   "cell_type": "code",
   "execution_count": 10,
   "metadata": {
    "scrolled": true
   },
   "outputs": [
    {
     "data": {
      "text/plain": [
       "(1001, 12)"
      ]
     },
     "execution_count": 10,
     "metadata": {},
     "output_type": "execute_result"
    }
   ],
   "source": [
    "data_static.shape"
   ]
  },
  {
   "cell_type": "markdown",
   "metadata": {},
   "source": [
    "## SPAM data"
   ]
  },
  {
   "cell_type": "code",
   "execution_count": 11,
   "metadata": {},
   "outputs": [],
   "source": [
    "DIRNAME_SPAM_RESULT = \"../data/spam_result_test\""
   ]
  },
  {
   "cell_type": "code",
   "execution_count": 12,
   "metadata": {},
   "outputs": [],
   "source": [
    "d = []\n",
    "for image_name in os.listdir(DIRNAME_SPAM_RESULT):\n",
    "    with open(os.path.join(DIRNAME_SPAM_RESULT, image_name)) as f:\n",
    "        data = [float(x.strip()) for x in f.readlines()]\n",
    "        d.append([int(image_name[:-4]), *data])\n",
    "        \n",
    "data_spam = pd.DataFrame.from_records(d)\n",
    "data_spam = data_spam.rename(columns={0: 'name'}).set_index('name')"
   ]
  },
  {
   "cell_type": "code",
   "execution_count": 13,
   "metadata": {},
   "outputs": [
    {
     "data": {
      "text/plain": [
       "(981, 686)"
      ]
     },
     "execution_count": 13,
     "metadata": {},
     "output_type": "execute_result"
    }
   ],
   "source": [
    "data_spam.shape"
   ]
  },
  {
   "cell_type": "code",
   "execution_count": 14,
   "metadata": {},
   "outputs": [
    {
     "data": {
      "text/html": [
       "<div>\n",
       "<style scoped>\n",
       "    .dataframe tbody tr th:only-of-type {\n",
       "        vertical-align: middle;\n",
       "    }\n",
       "\n",
       "    .dataframe tbody tr th {\n",
       "        vertical-align: top;\n",
       "    }\n",
       "\n",
       "    .dataframe thead th {\n",
       "        text-align: right;\n",
       "    }\n",
       "</style>\n",
       "<table border=\"1\" class=\"dataframe\">\n",
       "  <thead>\n",
       "    <tr style=\"text-align: right;\">\n",
       "      <th></th>\n",
       "      <th>1</th>\n",
       "      <th>2</th>\n",
       "      <th>3</th>\n",
       "      <th>4</th>\n",
       "      <th>5</th>\n",
       "      <th>6</th>\n",
       "      <th>7</th>\n",
       "      <th>8</th>\n",
       "      <th>9</th>\n",
       "      <th>10</th>\n",
       "      <th>...</th>\n",
       "      <th>677</th>\n",
       "      <th>678</th>\n",
       "      <th>679</th>\n",
       "      <th>680</th>\n",
       "      <th>681</th>\n",
       "      <th>682</th>\n",
       "      <th>683</th>\n",
       "      <th>684</th>\n",
       "      <th>685</th>\n",
       "      <th>686</th>\n",
       "    </tr>\n",
       "    <tr>\n",
       "      <th>name</th>\n",
       "      <th></th>\n",
       "      <th></th>\n",
       "      <th></th>\n",
       "      <th></th>\n",
       "      <th></th>\n",
       "      <th></th>\n",
       "      <th></th>\n",
       "      <th></th>\n",
       "      <th></th>\n",
       "      <th></th>\n",
       "      <th></th>\n",
       "      <th></th>\n",
       "      <th></th>\n",
       "      <th></th>\n",
       "      <th></th>\n",
       "      <th></th>\n",
       "      <th></th>\n",
       "      <th></th>\n",
       "      <th></th>\n",
       "      <th></th>\n",
       "      <th></th>\n",
       "    </tr>\n",
       "  </thead>\n",
       "  <tbody>\n",
       "    <tr>\n",
       "      <th>5520</th>\n",
       "      <td>0.023144</td>\n",
       "      <td>0.002780</td>\n",
       "      <td>0.003028</td>\n",
       "      <td>0.003312</td>\n",
       "      <td>0.003290</td>\n",
       "      <td>0.003270</td>\n",
       "      <td>0.040415</td>\n",
       "      <td>0.002348</td>\n",
       "      <td>0.000573</td>\n",
       "      <td>0.000711</td>\n",
       "      <td>...</td>\n",
       "      <td>0.000470</td>\n",
       "      <td>0.000398</td>\n",
       "      <td>0.002502</td>\n",
       "      <td>0.048288</td>\n",
       "      <td>0.002763</td>\n",
       "      <td>0.002723</td>\n",
       "      <td>0.002701</td>\n",
       "      <td>0.002496</td>\n",
       "      <td>0.002343</td>\n",
       "      <td>0.028076</td>\n",
       "    </tr>\n",
       "    <tr>\n",
       "      <th>13733</th>\n",
       "      <td>0.074379</td>\n",
       "      <td>0.007511</td>\n",
       "      <td>0.007439</td>\n",
       "      <td>0.007544</td>\n",
       "      <td>0.006287</td>\n",
       "      <td>0.005431</td>\n",
       "      <td>0.041573</td>\n",
       "      <td>0.004735</td>\n",
       "      <td>0.001352</td>\n",
       "      <td>0.001568</td>\n",
       "      <td>...</td>\n",
       "      <td>0.001157</td>\n",
       "      <td>0.001039</td>\n",
       "      <td>0.005296</td>\n",
       "      <td>0.049513</td>\n",
       "      <td>0.005057</td>\n",
       "      <td>0.005640</td>\n",
       "      <td>0.006336</td>\n",
       "      <td>0.006437</td>\n",
       "      <td>0.006435</td>\n",
       "      <td>0.088571</td>\n",
       "    </tr>\n",
       "    <tr>\n",
       "      <th>6628</th>\n",
       "      <td>0.024214</td>\n",
       "      <td>0.002027</td>\n",
       "      <td>0.002458</td>\n",
       "      <td>0.004082</td>\n",
       "      <td>0.002907</td>\n",
       "      <td>0.002870</td>\n",
       "      <td>0.058626</td>\n",
       "      <td>0.001288</td>\n",
       "      <td>0.000368</td>\n",
       "      <td>0.000491</td>\n",
       "      <td>...</td>\n",
       "      <td>0.000549</td>\n",
       "      <td>0.000334</td>\n",
       "      <td>0.001492</td>\n",
       "      <td>0.053561</td>\n",
       "      <td>0.001994</td>\n",
       "      <td>0.001960</td>\n",
       "      <td>0.002336</td>\n",
       "      <td>0.001587</td>\n",
       "      <td>0.001353</td>\n",
       "      <td>0.024919</td>\n",
       "    </tr>\n",
       "    <tr>\n",
       "      <th>22519</th>\n",
       "      <td>0.012517</td>\n",
       "      <td>0.001237</td>\n",
       "      <td>0.001402</td>\n",
       "      <td>0.001911</td>\n",
       "      <td>0.003029</td>\n",
       "      <td>0.001515</td>\n",
       "      <td>0.016495</td>\n",
       "      <td>0.000902</td>\n",
       "      <td>0.000238</td>\n",
       "      <td>0.000311</td>\n",
       "      <td>...</td>\n",
       "      <td>0.000342</td>\n",
       "      <td>0.000245</td>\n",
       "      <td>0.001035</td>\n",
       "      <td>0.019838</td>\n",
       "      <td>0.001778</td>\n",
       "      <td>0.001827</td>\n",
       "      <td>0.003389</td>\n",
       "      <td>0.001589</td>\n",
       "      <td>0.001277</td>\n",
       "      <td>0.013564</td>\n",
       "    </tr>\n",
       "    <tr>\n",
       "      <th>24841</th>\n",
       "      <td>0.034370</td>\n",
       "      <td>0.003543</td>\n",
       "      <td>0.003887</td>\n",
       "      <td>0.004012</td>\n",
       "      <td>0.004157</td>\n",
       "      <td>0.004338</td>\n",
       "      <td>0.046365</td>\n",
       "      <td>0.003620</td>\n",
       "      <td>0.000647</td>\n",
       "      <td>0.000787</td>\n",
       "      <td>...</td>\n",
       "      <td>0.000782</td>\n",
       "      <td>0.000696</td>\n",
       "      <td>0.003741</td>\n",
       "      <td>0.047439</td>\n",
       "      <td>0.004136</td>\n",
       "      <td>0.004202</td>\n",
       "      <td>0.004606</td>\n",
       "      <td>0.004146</td>\n",
       "      <td>0.003732</td>\n",
       "      <td>0.041755</td>\n",
       "    </tr>\n",
       "  </tbody>\n",
       "</table>\n",
       "<p>5 rows × 686 columns</p>\n",
       "</div>"
      ],
      "text/plain": [
       "            1         2         3         4         5         6         7    \\\n",
       "name                                                                          \n",
       "5520   0.023144  0.002780  0.003028  0.003312  0.003290  0.003270  0.040415   \n",
       "13733  0.074379  0.007511  0.007439  0.007544  0.006287  0.005431  0.041573   \n",
       "6628   0.024214  0.002027  0.002458  0.004082  0.002907  0.002870  0.058626   \n",
       "22519  0.012517  0.001237  0.001402  0.001911  0.003029  0.001515  0.016495   \n",
       "24841  0.034370  0.003543  0.003887  0.004012  0.004157  0.004338  0.046365   \n",
       "\n",
       "            8         9         10     ...          677       678       679  \\\n",
       "name                                   ...                                    \n",
       "5520   0.002348  0.000573  0.000711    ...     0.000470  0.000398  0.002502   \n",
       "13733  0.004735  0.001352  0.001568    ...     0.001157  0.001039  0.005296   \n",
       "6628   0.001288  0.000368  0.000491    ...     0.000549  0.000334  0.001492   \n",
       "22519  0.000902  0.000238  0.000311    ...     0.000342  0.000245  0.001035   \n",
       "24841  0.003620  0.000647  0.000787    ...     0.000782  0.000696  0.003741   \n",
       "\n",
       "            680       681       682       683       684       685       686  \n",
       "name                                                                         \n",
       "5520   0.048288  0.002763  0.002723  0.002701  0.002496  0.002343  0.028076  \n",
       "13733  0.049513  0.005057  0.005640  0.006336  0.006437  0.006435  0.088571  \n",
       "6628   0.053561  0.001994  0.001960  0.002336  0.001587  0.001353  0.024919  \n",
       "22519  0.019838  0.001778  0.001827  0.003389  0.001589  0.001277  0.013564  \n",
       "24841  0.047439  0.004136  0.004202  0.004606  0.004146  0.003732  0.041755  \n",
       "\n",
       "[5 rows x 686 columns]"
      ]
     },
     "execution_count": 14,
     "metadata": {},
     "output_type": "execute_result"
    }
   ],
   "source": [
    "data_spam.head()"
   ]
  },
  {
   "cell_type": "code",
   "execution_count": null,
   "metadata": {},
   "outputs": [],
   "source": []
  },
  {
   "cell_type": "code",
   "execution_count": null,
   "metadata": {},
   "outputs": [],
   "source": []
  },
  {
   "cell_type": "markdown",
   "metadata": {},
   "source": [
    "## CCPEV data "
   ]
  },
  {
   "cell_type": "code",
   "execution_count": 15,
   "metadata": {},
   "outputs": [],
   "source": [
    "DIRNAME_CCPEV_RESULT = \"../data/result_ccpev\""
   ]
  },
  {
   "cell_type": "code",
   "execution_count": 16,
   "metadata": {},
   "outputs": [],
   "source": [
    "d = []\n",
    "for image_name in os.listdir(DIRNAME_CCPEV_RESULT):\n",
    "    with open(os.path.join(DIRNAME_CCPEV_RESULT, image_name)) as f:\n",
    "        data = [float(x) for x in f.read().split(',')]\n",
    "        d.append([int(image_name[:-4]), *data])\n",
    "        \n",
    "data_ccpev = pd.DataFrame.from_records(d)\n",
    "data_ccpev = data_ccpev.rename(columns={0: 'name'}).set_index('name')"
   ]
  },
  {
   "cell_type": "code",
   "execution_count": 17,
   "metadata": {},
   "outputs": [
    {
     "data": {
      "text/html": [
       "<div>\n",
       "<style scoped>\n",
       "    .dataframe tbody tr th:only-of-type {\n",
       "        vertical-align: middle;\n",
       "    }\n",
       "\n",
       "    .dataframe tbody tr th {\n",
       "        vertical-align: top;\n",
       "    }\n",
       "\n",
       "    .dataframe thead th {\n",
       "        text-align: right;\n",
       "    }\n",
       "</style>\n",
       "<table border=\"1\" class=\"dataframe\">\n",
       "  <thead>\n",
       "    <tr style=\"text-align: right;\">\n",
       "      <th></th>\n",
       "      <th>1</th>\n",
       "      <th>2</th>\n",
       "      <th>3</th>\n",
       "      <th>4</th>\n",
       "      <th>5</th>\n",
       "      <th>6</th>\n",
       "      <th>7</th>\n",
       "      <th>8</th>\n",
       "      <th>9</th>\n",
       "      <th>10</th>\n",
       "      <th>...</th>\n",
       "      <th>539</th>\n",
       "      <th>540</th>\n",
       "      <th>541</th>\n",
       "      <th>542</th>\n",
       "      <th>543</th>\n",
       "      <th>544</th>\n",
       "      <th>545</th>\n",
       "      <th>546</th>\n",
       "      <th>547</th>\n",
       "      <th>548</th>\n",
       "    </tr>\n",
       "    <tr>\n",
       "      <th>name</th>\n",
       "      <th></th>\n",
       "      <th></th>\n",
       "      <th></th>\n",
       "      <th></th>\n",
       "      <th></th>\n",
       "      <th></th>\n",
       "      <th></th>\n",
       "      <th></th>\n",
       "      <th></th>\n",
       "      <th></th>\n",
       "      <th></th>\n",
       "      <th></th>\n",
       "      <th></th>\n",
       "      <th></th>\n",
       "      <th></th>\n",
       "      <th></th>\n",
       "      <th></th>\n",
       "      <th></th>\n",
       "      <th></th>\n",
       "      <th></th>\n",
       "      <th></th>\n",
       "    </tr>\n",
       "  </thead>\n",
       "  <tbody>\n",
       "    <tr>\n",
       "      <th>21288</th>\n",
       "      <td>0.017506</td>\n",
       "      <td>0.023251</td>\n",
       "      <td>0.034502</td>\n",
       "      <td>0.055507</td>\n",
       "      <td>0.10545</td>\n",
       "      <td>0.23466</td>\n",
       "      <td>0.10738</td>\n",
       "      <td>0.054543</td>\n",
       "      <td>0.034109</td>\n",
       "      <td>0.023065</td>\n",
       "      <td>...</td>\n",
       "      <td>0.044561</td>\n",
       "      <td>0.71320</td>\n",
       "      <td>0.23506</td>\n",
       "      <td>0.116660</td>\n",
       "      <td>0.043553</td>\n",
       "      <td>0.021003</td>\n",
       "      <td>0.030065</td>\n",
       "      <td>0.058441</td>\n",
       "      <td>0.088871</td>\n",
       "      <td>0.28820</td>\n",
       "    </tr>\n",
       "    <tr>\n",
       "      <th>19938</th>\n",
       "      <td>0.011013</td>\n",
       "      <td>0.015799</td>\n",
       "      <td>0.023535</td>\n",
       "      <td>0.041039</td>\n",
       "      <td>0.10975</td>\n",
       "      <td>0.43324</td>\n",
       "      <td>0.10970</td>\n",
       "      <td>0.040078</td>\n",
       "      <td>0.023989</td>\n",
       "      <td>0.016137</td>\n",
       "      <td>...</td>\n",
       "      <td>0.047414</td>\n",
       "      <td>0.69640</td>\n",
       "      <td>0.20331</td>\n",
       "      <td>0.099627</td>\n",
       "      <td>0.027134</td>\n",
       "      <td>0.007200</td>\n",
       "      <td>0.017026</td>\n",
       "      <td>0.043794</td>\n",
       "      <td>0.067151</td>\n",
       "      <td>0.27438</td>\n",
       "    </tr>\n",
       "    <tr>\n",
       "      <th>21463</th>\n",
       "      <td>0.010375</td>\n",
       "      <td>0.014657</td>\n",
       "      <td>0.021796</td>\n",
       "      <td>0.039110</td>\n",
       "      <td>0.10741</td>\n",
       "      <td>0.44238</td>\n",
       "      <td>0.10570</td>\n",
       "      <td>0.038950</td>\n",
       "      <td>0.021388</td>\n",
       "      <td>0.013789</td>\n",
       "      <td>...</td>\n",
       "      <td>0.048925</td>\n",
       "      <td>0.72213</td>\n",
       "      <td>0.21206</td>\n",
       "      <td>0.095735</td>\n",
       "      <td>0.025594</td>\n",
       "      <td>0.007388</td>\n",
       "      <td>0.016516</td>\n",
       "      <td>0.045330</td>\n",
       "      <td>0.074982</td>\n",
       "      <td>0.29164</td>\n",
       "    </tr>\n",
       "    <tr>\n",
       "      <th>15105</th>\n",
       "      <td>0.016126</td>\n",
       "      <td>0.022749</td>\n",
       "      <td>0.032728</td>\n",
       "      <td>0.052917</td>\n",
       "      <td>0.10352</td>\n",
       "      <td>0.29539</td>\n",
       "      <td>0.10527</td>\n",
       "      <td>0.053920</td>\n",
       "      <td>0.032775</td>\n",
       "      <td>0.022190</td>\n",
       "      <td>...</td>\n",
       "      <td>0.044919</td>\n",
       "      <td>0.73189</td>\n",
       "      <td>0.23588</td>\n",
       "      <td>0.110610</td>\n",
       "      <td>0.040022</td>\n",
       "      <td>0.014826</td>\n",
       "      <td>0.026872</td>\n",
       "      <td>0.054350</td>\n",
       "      <td>0.081363</td>\n",
       "      <td>0.25290</td>\n",
       "    </tr>\n",
       "    <tr>\n",
       "      <th>7377</th>\n",
       "      <td>0.008774</td>\n",
       "      <td>0.012287</td>\n",
       "      <td>0.018730</td>\n",
       "      <td>0.032537</td>\n",
       "      <td>0.11059</td>\n",
       "      <td>0.50990</td>\n",
       "      <td>0.10889</td>\n",
       "      <td>0.033647</td>\n",
       "      <td>0.018544</td>\n",
       "      <td>0.011962</td>\n",
       "      <td>...</td>\n",
       "      <td>0.050974</td>\n",
       "      <td>0.72848</td>\n",
       "      <td>0.19546</td>\n",
       "      <td>0.096967</td>\n",
       "      <td>0.022999</td>\n",
       "      <td>0.005253</td>\n",
       "      <td>0.013599</td>\n",
       "      <td>0.042503</td>\n",
       "      <td>0.066364</td>\n",
       "      <td>0.24925</td>\n",
       "    </tr>\n",
       "  </tbody>\n",
       "</table>\n",
       "<p>5 rows × 548 columns</p>\n",
       "</div>"
      ],
      "text/plain": [
       "            1         2         3         4        5        6        7    \\\n",
       "name                                                                       \n",
       "21288  0.017506  0.023251  0.034502  0.055507  0.10545  0.23466  0.10738   \n",
       "19938  0.011013  0.015799  0.023535  0.041039  0.10975  0.43324  0.10970   \n",
       "21463  0.010375  0.014657  0.021796  0.039110  0.10741  0.44238  0.10570   \n",
       "15105  0.016126  0.022749  0.032728  0.052917  0.10352  0.29539  0.10527   \n",
       "7377   0.008774  0.012287  0.018730  0.032537  0.11059  0.50990  0.10889   \n",
       "\n",
       "            8         9         10    ...          539      540      541  \\\n",
       "name                                  ...                                  \n",
       "21288  0.054543  0.034109  0.023065   ...     0.044561  0.71320  0.23506   \n",
       "19938  0.040078  0.023989  0.016137   ...     0.047414  0.69640  0.20331   \n",
       "21463  0.038950  0.021388  0.013789   ...     0.048925  0.72213  0.21206   \n",
       "15105  0.053920  0.032775  0.022190   ...     0.044919  0.73189  0.23588   \n",
       "7377   0.033647  0.018544  0.011962   ...     0.050974  0.72848  0.19546   \n",
       "\n",
       "            542       543       544       545       546       547      548  \n",
       "name                                                                        \n",
       "21288  0.116660  0.043553  0.021003  0.030065  0.058441  0.088871  0.28820  \n",
       "19938  0.099627  0.027134  0.007200  0.017026  0.043794  0.067151  0.27438  \n",
       "21463  0.095735  0.025594  0.007388  0.016516  0.045330  0.074982  0.29164  \n",
       "15105  0.110610  0.040022  0.014826  0.026872  0.054350  0.081363  0.25290  \n",
       "7377   0.096967  0.022999  0.005253  0.013599  0.042503  0.066364  0.24925  \n",
       "\n",
       "[5 rows x 548 columns]"
      ]
     },
     "execution_count": 17,
     "metadata": {},
     "output_type": "execute_result"
    }
   ],
   "source": [
    "data_ccpev.head()"
   ]
  },
  {
   "cell_type": "code",
   "execution_count": 18,
   "metadata": {},
   "outputs": [
    {
     "data": {
      "text/plain": [
       "(4526, 548)"
      ]
     },
     "execution_count": 18,
     "metadata": {},
     "output_type": "execute_result"
    }
   ],
   "source": [
    "data_ccpev.shape"
   ]
  },
  {
   "cell_type": "markdown",
   "metadata": {},
   "source": [
    "# Learning"
   ]
  },
  {
   "cell_type": "code",
   "execution_count": 19,
   "metadata": {},
   "outputs": [],
   "source": [
    "import itertools\n",
    "\n",
    "from sklearn.linear_model import LinearRegression, LogisticRegression\n",
    "from sklearn.svm import SVC\n",
    "from sklearn.model_selection import KFold, cross_val_score, train_test_split\n",
    "from sklearn.metrics import accuracy_score, recall_score, confusion_matrix"
   ]
  },
  {
   "cell_type": "code",
   "execution_count": 20,
   "metadata": {},
   "outputs": [],
   "source": [
    "N = 10"
   ]
  },
  {
   "cell_type": "code",
   "execution_count": 21,
   "metadata": {},
   "outputs": [],
   "source": [
    "def plot_confusion_matrix(cm, classes,\n",
    "                          normalize=True,\n",
    "                          title='Confusion matrix',\n",
    "                          cmap=plt.cm.Blues):\n",
    "    \"\"\"\n",
    "    This function prints and plots the confusion matrix.\n",
    "    Normalization can be applied by setting `normalize=True`.\n",
    "    \"\"\"\n",
    "    plt.imshow(cm, interpolation='nearest', cmap=cmap)\n",
    "    plt.title(title)\n",
    "    plt.colorbar()\n",
    "    tick_marks = np.arange(len(classes))\n",
    "    plt.xticks(tick_marks, classes)\n",
    "    plt.yticks(tick_marks, classes)\n",
    "\n",
    "    if normalize:\n",
    "        cm = cm.astype('float') / cm.sum(axis=1)[:, np.newaxis]\n",
    "        print(\"Normalized confusion matrix\")\n",
    "    else:\n",
    "        print('Confusion matrix, without normalization')\n",
    "\n",
    "    print(cm)\n",
    "\n",
    "    thresh = cm.max() / 2.\n",
    "    for i, j in itertools.product(range(cm.shape[0]), range(cm.shape[1])):\n",
    "        plt.text(j, i, round(cm[i, j], 3),\n",
    "                 horizontalalignment=\"center\",\n",
    "                 color=\"white\" if cm[i, j] > thresh else \"black\")\n",
    "\n",
    "    plt.tight_layout()\n",
    "    plt.ylabel('True label')\n",
    "    plt.xlabel('Predicted label')\n",
    "\n",
    "font = {'size' : 15}\n",
    "\n",
    "plt.rc('font', **font)"
   ]
  },
  {
   "cell_type": "markdown",
   "metadata": {},
   "source": [
    "## Static"
   ]
  },
  {
   "cell_type": "code",
   "execution_count": 22,
   "metadata": {},
   "outputs": [],
   "source": [
    "X = data_static.copy()\n",
    "\n",
    "df = Y.join(X, how='inner')\n",
    "df = df.drop_duplicates()\n",
    "\n",
    "y = df['target']\n",
    "X = df.drop('target', axis=1)"
   ]
  },
  {
   "cell_type": "code",
   "execution_count": 23,
   "metadata": {},
   "outputs": [
    {
     "name": "stdout",
     "output_type": "stream",
     "text": [
      "Normalized confusion matrix\n",
      "[[ 0.99873817  0.00126183]\n",
      " [ 0.99354839  0.00645161]]\n"
     ]
    },
    {
     "data": {
      "image/png": "[encoded data removed]",
      "text/plain": [
       "<matplotlib.figure.Figure at 0x7f8928e33550>"
      ]
     },
     "metadata": {},
     "output_type": "display_data"
    },
    {
     "name": "stdout",
     "output_type": "stream",
     "text": [
      "Normalized confusion matrix\n",
      "[[ 0.  1.]\n",
      " [ 0.  1.]]\n"
     ]
    },
    {
     "data": {
      "image/png": "[encoded data removed]",
      "text/plain": [
       "<matplotlib.figure.Figure at 0x7f891975f208>"
      ]
     },
     "metadata": {},
     "output_type": "display_data"
    },
    {
     "name": "stdout",
     "output_type": "stream",
     "text": [
      "Normalized confusion matrix\n",
      "[[ 1.  0.]\n",
      " [ 1.  0.]]\n"
     ]
    },
    {
     "data": {
      "image/png": "[encoded data removed]",
      "text/plain": [
       "<matplotlib.figure.Figure at 0x7f89196e7e80>"
      ]
     },
     "metadata": {},
     "output_type": "display_data"
    }
   ],
   "source": [
    "for c in (LogisticRegression, LinearRegression, SVC):\n",
    "    cls = c()\n",
    "    cnf_matrix = []\n",
    "    for i in range(N):\n",
    "        X_train, X_test, y_train, y_test = train_test_split(X, y, test_size=0.5)\n",
    "        cls.fit(X_train, y_train)\n",
    "        y_predict = cls.predict(X_test)\n",
    "        cnf_matrix.append(confusion_matrix(y_test, y_predict.astype(bool).astype(int)))\n",
    "    cnf_matrix = np.mean(np.array(cnf_matrix), axis=0)\n",
    "    plt.figure(figsize=(4, 3))\n",
    "    plot_confusion_matrix(cnf_matrix, classes=['0', '1'],\n",
    "                          title=c.__name__)\n",
    "    plt.savefig(\"static_\" + c.__name__ + \".png\")\n",
    "    plt.show()\n",
    "    #print(cnf_matrix)"
   ]
  },
  {
   "cell_type": "code",
   "execution_count": null,
   "metadata": {},
   "outputs": [],
   "source": []
  },
  {
   "cell_type": "markdown",
   "metadata": {},
   "source": [
    "## SPAM"
   ]
  },
  {
   "cell_type": "code",
   "execution_count": 24,
   "metadata": {},
   "outputs": [],
   "source": [
    "X = data_spam.copy()\n",
    "\n",
    "df = Y.join(X, how='inner')\n",
    "df = df.drop_duplicates()\n",
    "\n",
    "y = df['target']\n",
    "X = df.drop('target', axis=1)"
   ]
  },
  {
   "cell_type": "code",
   "execution_count": 25,
   "metadata": {},
   "outputs": [
    {
     "name": "stdout",
     "output_type": "stream",
     "text": [
      "Normalized confusion matrix\n",
      "[[ 0.97216951  0.02783049]\n",
      " [ 0.98802395  0.01197605]]\n"
     ]
    },
    {
     "data": {
      "image/png": "[encoded data removed]",
      "text/plain": [
       "<matplotlib.figure.Figure at 0x7f89196aaa90>"
      ]
     },
     "metadata": {},
     "output_type": "display_data"
    },
    {
     "name": "stdout",
     "output_type": "stream",
     "text": [
      "[[  4.61100000e+02   1.32000000e+01]\n",
      " [  1.65000000e+01   2.00000000e-01]]\n",
      "Normalized confusion matrix\n",
      "[[ 0.96616936  0.03383064]\n",
      " [ 0.98013245  0.01986755]]\n"
     ]
    },
    {
     "data": {
      "image/png": "[encoded data removed]",
      "text/plain": [
       "<matplotlib.figure.Figure at 0x7f8919671198>"
      ]
     },
     "metadata": {},
     "output_type": "display_data"
    },
    {
     "name": "stdout",
     "output_type": "stream",
     "text": [
      "[[  4.59800000e+02   1.61000000e+01]\n",
      " [  1.48000000e+01   3.00000000e-01]]\n",
      "Normalized confusion matrix\n",
      "[[ 0.9740889   0.0259111 ]\n",
      " [ 0.95705521  0.04294479]]\n"
     ]
    },
    {
     "data": {
      "image/png": "[encoded data removed]",
      "text/plain": [
       "<matplotlib.figure.Figure at 0x7f89194e15f8>"
      ]
     },
     "metadata": {},
     "output_type": "display_data"
    },
    {
     "name": "stdout",
     "output_type": "stream",
     "text": [
      "[[ 462.4   12.3]\n",
      " [  15.6    0.7]]\n"
     ]
    }
   ],
   "source": [
    "for c in (LogisticRegression, LinearRegression, SVC):\n",
    "    cls = LinearRegression(n_jobs=-1)\n",
    "    cnf_matrix = []\n",
    "    for i in range(N):\n",
    "        X_train, X_test, y_train, y_test = train_test_split(X, y, test_size=0.5)\n",
    "        cls.fit(X_train, y_train)\n",
    "        y_predict = cls.predict(X_test).astype(int)\n",
    "        #print(y_predict)\n",
    "   \n",
    "        cnf_matrix.append(confusion_matrix(y_test, y_predict.astype(bool).astype(int))) # .astype(int)\n",
    "    #print(confusion_matrix(y_test, y_predict.astype(int)))\n",
    "    cnf_matrix = np.mean(np.array(cnf_matrix), axis=0)\n",
    "    plt.figure(figsize=(4, 3))\n",
    "    plot_confusion_matrix(cnf_matrix, classes=['0', '1'],\n",
    "                              title=c.__name__)\n",
    "    plt.savefig(\"spam\" + c.__name__ + \".png\")\n",
    "    plt.show()\n",
    "    print(cnf_matrix)"
   ]
  },
  {
   "cell_type": "markdown",
   "metadata": {},
   "source": [
    "## CCPEV"
   ]
  },
  {
   "cell_type": "code",
   "execution_count": 26,
   "metadata": {},
   "outputs": [],
   "source": [
    "X = data_ccpev.copy()\n",
    "\n",
    "df = Y.join(X, how='inner')\n",
    "df = df.drop_duplicates()\n",
    "\n",
    "y = df['target']\n",
    "X = df.drop('target', axis=1)"
   ]
  },
  {
   "cell_type": "code",
   "execution_count": 27,
   "metadata": {},
   "outputs": [
    {
     "name": "stdout",
     "output_type": "stream",
     "text": [
      "Normalized confusion matrix\n",
      "[[ 1.  0.]\n",
      " [ 1.  0.]]\n"
     ]
    },
    {
     "data": {
      "image/png": "[encoded data removed]",
      "text/plain": [
       "<matplotlib.figure.Figure at 0x7f891952ae80>"
      ]
     },
     "metadata": {},
     "output_type": "display_data"
    },
    {
     "name": "stdout",
     "output_type": "stream",
     "text": [
      "Normalized confusion matrix\n",
      "[[ 0.  1.]\n",
      " [ 0.  1.]]\n"
     ]
    },
    {
     "data": {
      "image/png": "[encoded data removed]",
      "text/plain": [
       "<matplotlib.figure.Figure at 0x7f89195f5b00>"
      ]
     },
     "metadata": {},
     "output_type": "display_data"
    },
    {
     "name": "stdout",
     "output_type": "stream",
     "text": [
      "Normalized confusion matrix\n",
      "[[ 1.  0.]\n",
      " [ 1.  0.]]\n"
     ]
    },
    {
     "data": {
      "image/png": "[encoded data removed]",
      "text/plain": [
       "<matplotlib.figure.Figure at 0x7f89194d2748>"
      ]
     },
     "metadata": {},
     "output_type": "display_data"
    }
   ],
   "source": [
    "for c in (LogisticRegression, LinearRegression, SVC):\n",
    "    cnf_matrix = []\n",
    "    for i in range(N):\n",
    "        X_train, X_test, y_train, y_test = train_test_split(X, y, test_size=0.5)\n",
    "        cls = c()\n",
    "        cls.fit(X_train, y_train)\n",
    "        y_predict = cls.predict(X_test)\n",
    "        cnf_matrix.append(confusion_matrix(y_test, y_predict.astype(bool).astype(int)))\n",
    "    #print(confusion_matrix(y_test, y_predict.astype(int)))\n",
    "    cnf_matrix = np.mean(np.array(cnf_matrix), axis=0)\n",
    "    plt.figure(figsize=(4, 3))\n",
    "    plot_confusion_matrix(cnf_matrix, classes=['0', '1'],\n",
    "                              title=c.__name__)\n",
    "    plt.savefig(\"ccpev_\" + c.__name__ + \".png\")\n",
    "    plt.show()\n",
    "    #print(cnf_matrix)"
   ]
  },
  {
   "cell_type": "code",
   "execution_count": null,
   "metadata": {},
   "outputs": [],
   "source": []
  },
  {
   "cell_type": "code",
   "execution_count": null,
   "metadata": {},
   "outputs": [],
   "source": []
  },
  {
   "cell_type": "code",
   "execution_count": null,
   "metadata": {},
   "outputs": [],
   "source": []
  }
 ],
 "metadata": {
  "kernelspec": {
   "display_name": "Python 3",
   "language": "python",
   "name": "python3"
  },
  "language_info": {
   "codemirror_mode": {
    "name": "ipython",
    "version": 3
   },
   "file_extension": ".py",
   "mimetype": "text/x-python",
   "name": "python",
   "nbconvert_exporter": "python",
   "pygments_lexer": "ipython3",
   "version": "3.5.2"
  }
 },
 "nbformat": 4,
 "nbformat_minor": 1
}
